{
 "cells": [
  {
   "cell_type": "code",
   "execution_count": 188,
   "id": "14df47de",
   "metadata": {},
   "outputs": [],
   "source": [
    "from selenium import webdriver\n",
    "from selenium.webdriver.common.by import By\n",
    "from selenium.webdriver.chrome.service import Service\n",
    "from selenium.webdriver.chrome.options import Options\n",
    "from selenium.webdriver.common.keys import Keys\n",
    "from selenium.webdriver.support.ui import WebDriverWait\n",
    "from selenium.webdriver.support import expected_conditions as EC\n",
    "from selenium.common.exceptions import TimeoutException\n",
    "import time\n",
    "\n",
    "import json\n",
    "import pandas as pd\n",
    "from datetime import datetime, timedelta"
   ]
  },
  {
   "cell_type": "code",
   "execution_count": 237,
   "id": "f1f8b55d",
   "metadata": {},
   "outputs": [],
   "source": [
    "# url= \"https://www.linkedin.com/jobs/search?location=India&geoId=102713980&f_C=1035&position=1&pageNum=0\"\n",
    "# url1 = \"https://www.linkedin.com/jobs/search?keywords=&location=India&geoId=102713980&f_C=1441\"\n",
    "url2 = \"https://www.linkedin.com/jobs/search?keywords=&location=India&geoId=102713980&f_TPR=r86400&f_C=1586&position=1&pageNum=0\""
   ]
  },
  {
   "cell_type": "code",
   "execution_count": 238,
   "id": "8deb7dae",
   "metadata": {},
   "outputs": [],
   "source": [
    "driver = webdriver.Chrome(executable_path=r\"C:\\\\Users\\\\hp\\\\Downloads\\\\chromedriver_win32\\\\chromedriver.exe\")\n",
    "driver.get(url2)\n",
    "driver.implicitly_wait(10)\n"
   ]
  },
  {
   "cell_type": "code",
   "execution_count": 18,
   "id": "d0f9324f",
   "metadata": {},
   "outputs": [],
   "source": [
    "from datetime import datetime, timedelta\n",
    "\n",
    "def parse_relative_date(posted_on):\n",
    "    if \"today\" in posted_on or \"hour\" in posted_on or \"minute\" in posted_on:\n",
    "        if \"hour\" in posted_on:\n",
    "            hours_ago = int(posted_on.split(\" \")[0])\n",
    "            return (datetime.now() - timedelta(hours=hours_ago)).strftime(\"%d-%m-%Y\")\n",
    "        elif \"minute\" in posted_on:\n",
    "            minutes_ago = int(posted_on.split(\" \")[0])\n",
    "            return (datetime.now() - timedelta(minutes=minutes_ago)).strftime(\"%d-%m-%Y\")\n",
    "        else:\n",
    "            return datetime.now().strftime(\"%d-%m-%Y\")\n",
    "    elif \"day\" in posted_on:\n",
    "        days_ago = int(posted_on.split(\" \")[0])\n",
    "        return (datetime.now() - timedelta(days=days_ago)).strftime(\"%d-%m-%Y\")\n",
    "    elif \"week\" in posted_on:\n",
    "        weeks_ago = int(posted_on.split(\" \")[0])\n",
    "        return (datetime.now() - timedelta(weeks=weeks_ago)).strftime(\"%d-%m-%Y\")\n",
    "    elif \"month\" in posted_on:\n",
    "        months_ago = int(posted_on.split(\" \")[0])\n",
    "        return (datetime.now() - timedelta(days=30*months_ago)).strftime(\"%d-%m-%Y\")\n",
    "    else:\n",
    "        return None\n"
   ]
  },
  {
   "cell_type": "code",
   "execution_count": 239,
   "id": "c73ac725",
   "metadata": {},
   "outputs": [],
   "source": [
    "company_name = []\n",
    "\n",
    "#fetching company_name\n",
    "\n",
    "for _ in range(3):  # Adjust the range to scroll more/less\n",
    "    driver.find_element(By.TAG_NAME, 'body').send_keys(Keys.END)\n",
    "    time.sleep(2)\n",
    "\n",
    "    jobs = driver.find_elements(By.CLASS_NAME, 'result-card')\n",
    "        \n",
    "        \n",
    "    for i in range(40):\n",
    "        \n",
    "            \n",
    "            \n",
    "            company=driver.find_elements_by_class_name('base-search-card__subtitle')[i].text\n",
    "            company_name.append(company)"
   ]
  },
  {
   "cell_type": "code",
   "execution_count": 240,
   "id": "9cfd590a",
   "metadata": {},
   "outputs": [
    {
     "data": {
      "text/plain": [
       "120"
      ]
     },
     "execution_count": 240,
     "metadata": {},
     "output_type": "execute_result"
    }
   ],
   "source": [
    "len(company_name)"
   ]
  },
  {
   "cell_type": "code",
   "execution_count": 242,
   "id": "01d3411c",
   "metadata": {},
   "outputs": [],
   "source": [
    "titlename = []\n",
    "\n",
    "#fetching job_title\n",
    "for _ in range(3):  \n",
    "    driver.find_element(By.TAG_NAME, 'body').send_keys(Keys.END)\n",
    "    time.sleep(2)\n",
    "\n",
    "    jobs = driver.find_elements(By.CLASS_NAME, 'result-card')\n",
    "        \n",
    "        \n",
    "    for i in range(40):\n",
    "        title=driver.find_elements_by_class_name('base-search-card__title')[i].text\n",
    "        titlename.append(title)\n",
    "        \n",
    "        \n",
    "            \n",
    "            \n",
    "            "
   ]
  },
  {
   "cell_type": "code",
   "execution_count": 243,
   "id": "139dc86d",
   "metadata": {},
   "outputs": [
    {
     "data": {
      "text/plain": [
       "120"
      ]
     },
     "execution_count": 243,
     "metadata": {},
     "output_type": "execute_result"
    }
   ],
   "source": [
    "len(titlename)"
   ]
  },
  {
   "cell_type": "code",
   "execution_count": 244,
   "id": "5c99be04",
   "metadata": {},
   "outputs": [],
   "source": [
    "location = []\n",
    "#fetching location\n",
    "for _ in range(3):  \n",
    "    driver.find_element(By.TAG_NAME, 'body').send_keys(Keys.END)\n",
    "    time.sleep(2)\n",
    "\n",
    "    jobs = driver.find_elements(By.CLASS_NAME, 'result-card')\n",
    "        \n",
    "        \n",
    "    for i in range(40):\n",
    "        loc=driver.find_elements_by_class_name('job-search-card__location')[i].text\n",
    "        location.append(loc)"
   ]
  },
  {
   "cell_type": "code",
   "execution_count": 245,
   "id": "37e6bcd0",
   "metadata": {},
   "outputs": [
    {
     "data": {
      "text/plain": [
       "120"
      ]
     },
     "execution_count": 245,
     "metadata": {},
     "output_type": "execute_result"
    }
   ],
   "source": [
    "len(location)"
   ]
  },
  {
   "cell_type": "code",
   "execution_count": 256,
   "id": "368db027",
   "metadata": {},
   "outputs": [],
   "source": [
    "posted_on = []\n",
    "posted_date = []\n",
    "\n",
    "#fetching date and posted on\n",
    "\n",
    "for _ in range(3):  \n",
    "    driver.find_element(By.TAG_NAME, 'body').send_keys(Keys.END)\n",
    "    time.sleep(2)\n",
    "\n",
    "    jobs = driver.find_elements(By.CLASS_NAME, 'result-card')\n",
    "    \n",
    "    for i in range(40):\n",
    "        posted_o = driver.find_elements_by_class_name('job-search-card__listdate--new')[i].text.strip()\n",
    "        posted_on.append(posted_o)\n",
    "                    \n",
    "        posted_d = parse_relative_date(posted_o)\n",
    "        posted_date.append(posted_d)\n",
    "        "
   ]
  },
  {
   "cell_type": "code",
   "execution_count": 257,
   "id": "21f26a6b",
   "metadata": {},
   "outputs": [
    {
     "data": {
      "text/plain": [
       "(120, 120)"
      ]
     },
     "execution_count": 257,
     "metadata": {},
     "output_type": "execute_result"
    }
   ],
   "source": [
    "len(posted_on),len(posted_date)"
   ]
  },
  {
   "cell_type": "code",
   "execution_count": 258,
   "id": "dff38513",
   "metadata": {
    "scrolled": false
   },
   "outputs": [
    {
     "name": "stdout",
     "output_type": "stream",
     "text": [
      "Job URL: https://in.linkedin.com/jobs/view/operations-manager-at-amazon-3982902627?position=1&pageNum=0&refId=0QDK%2BWJ5t5nW32a%2B2t%2BZGQ%3D%3D&trackingId=9AKLl9lpl6iUTIm5Wo6RGA%3D%3D&trk=public_jobs_jserp-result_search-card\n",
      "Job URL: https://in.linkedin.com/jobs/view/business-development-associate-private-brands-at-amazon-4001454827?position=2&pageNum=0&refId=0QDK%2BWJ5t5nW32a%2B2t%2BZGQ%3D%3D&trackingId=KWclzjrlJGrKIIozd4vKow%3D%3D&trk=public_jobs_jserp-result_search-card\n",
      "Job URL: https://in.linkedin.com/jobs/view/area-manager-at-amazon-3982909239?position=3&pageNum=0&refId=0QDK%2BWJ5t5nW32a%2B2t%2BZGQ%3D%3D&trackingId=Jaw6TsXVofwkmnzAY%2Fs2vw%3D%3D&trk=public_jobs_jserp-result_search-card\n",
      "Job URL: https://in.linkedin.com/jobs/view/business-analyst-in-stores-finance-at-amazon-3982958893?position=4&pageNum=0&refId=0QDK%2BWJ5t5nW32a%2B2t%2BZGQ%3D%3D&trackingId=L%2Byg20pemTp11jiDFyMVtg%3D%3D&trk=public_jobs_jserp-result_search-card\n",
      "Job URL: https://in.linkedin.com/jobs/view/business-analyst-at-amazon-3964387871?position=5&pageNum=0&refId=0QDK%2BWJ5t5nW32a%2B2t%2BZGQ%3D%3D&trackingId=ONxaj76u3QhZwIqe4bT5Iw%3D%3D&trk=public_jobs_jserp-result_search-card\n",
      "Job URL: https://in.linkedin.com/jobs/view/hr-business-partner-at-amazon-3945702709?position=6&pageNum=0&refId=0QDK%2BWJ5t5nW32a%2B2t%2BZGQ%3D%3D&trackingId=Bkx80nKnxJ%2FPJVt1gnHJFA%3D%3D&trk=public_jobs_jserp-result_search-card\n",
      "Job URL: https://in.linkedin.com/jobs/view/accounting-analyst-i-accounting-at-amazon-4001457336?position=7&pageNum=0&refId=0QDK%2BWJ5t5nW32a%2B2t%2BZGQ%3D%3D&trackingId=K2fQXwTna2UMq%2BEgAPiuyw%3D%3D&trk=public_jobs_jserp-result_search-card\n",
      "Job URL: https://in.linkedin.com/jobs/view/account-manager-at-amazon-3964309099?position=8&pageNum=0&refId=0QDK%2BWJ5t5nW32a%2B2t%2BZGQ%3D%3D&trackingId=bM7mkN1PcYjKJH8Jd%2BgjwA%3D%3D&trk=public_jobs_jserp-result_search-card\n",
      "Job URL: https://in.linkedin.com/jobs/view/investigations-specialist-at-amazon-3983412924?position=9&pageNum=0&refId=0QDK%2BWJ5t5nW32a%2B2t%2BZGQ%3D%3D&trackingId=w%2F59845MwylVLAvoyHTppw%3D%3D&trk=public_jobs_jserp-result_search-card\n",
      "Job URL: https://in.linkedin.com/jobs/view/finops-analyst-gar-billing-at-amazon-3945922953?position=10&pageNum=0&refId=0QDK%2BWJ5t5nW32a%2B2t%2BZGQ%3D%3D&trackingId=XktpL3A4kGH%2Fn3dPObMaog%3D%3D&trk=public_jobs_jserp-result_search-card\n",
      "Job URL: https://in.linkedin.com/jobs/view/financial-analyst-intern-inops-finance-at-amazon-3945749940?position=11&pageNum=0&refId=0QDK%2BWJ5t5nW32a%2B2t%2BZGQ%3D%3D&trackingId=9%2B2ppUnKb%2Fw%2FZL4xQiUHgg%3D%3D&trk=public_jobs_jserp-result_search-card\n",
      "Job URL: https://in.linkedin.com/jobs/view/receivables-application-manager-accounts-receivable-at-amazon-3945922917?position=12&pageNum=0&refId=0QDK%2BWJ5t5nW32a%2B2t%2BZGQ%3D%3D&trackingId=yNjWLfZ0yDxD0V5f%2BYP16Q%3D%3D&trk=public_jobs_jserp-result_search-card\n",
      "Job URL: https://in.linkedin.com/jobs/view/area-manager-inbound-operations-at-amazon-4001459032?position=13&pageNum=0&refId=0QDK%2BWJ5t5nW32a%2B2t%2BZGQ%3D%3D&trackingId=F9JhJ7j%2B3Jld75%2FhVe%2FVDw%3D%3D&trk=public_jobs_jserp-result_search-card\n",
      "Job URL: https://in.linkedin.com/jobs/view/brand-manager-amazon-shipping-at-amazon-3964674582?position=14&pageNum=0&refId=0QDK%2BWJ5t5nW32a%2B2t%2BZGQ%3D%3D&trackingId=Ju6mFjBZFejEfIH9cJOM5w%3D%3D&trk=public_jobs_jserp-result_search-card\n",
      "Job URL: https://in.linkedin.com/jobs/view/whs-officer-whs-at-amazon-3982960835?position=15&pageNum=0&refId=0QDK%2BWJ5t5nW32a%2B2t%2BZGQ%3D%3D&trackingId=pwobamp6aiD0yP1pvIpqZg%3D%3D&trk=public_jobs_jserp-result_search-card\n",
      "Job URL: https://in.linkedin.com/jobs/view/sales-associate-in-stock-management-at-amazon-3982964439?position=16&pageNum=0&refId=0QDK%2BWJ5t5nW32a%2B2t%2BZGQ%3D%3D&trackingId=dJ8Z2BWTH%2FwOlGFiHly%2Bcw%3D%3D&trk=public_jobs_jserp-result_search-card\n",
      "Job URL: https://in.linkedin.com/jobs/view/communication-manager-in-stores-communications-at-amazon-4000944649?position=17&pageNum=0&refId=0QDK%2BWJ5t5nW32a%2B2t%2BZGQ%3D%3D&trackingId=3S1oQlaEqvtv8wA8bOaR5A%3D%3D&trk=public_jobs_jserp-result_search-card\n",
      "Job URL: https://in.linkedin.com/jobs/view/marketing-manager-ihs-program-at-amazon-3982904649?position=18&pageNum=0&refId=0QDK%2BWJ5t5nW32a%2B2t%2BZGQ%3D%3D&trackingId=xSCWw7VzOOlxDKDLIjZNVA%3D%3D&trk=public_jobs_jserp-result_search-card\n",
      "Job URL: https://in.linkedin.com/jobs/view/instock-manager-globalsellingin-at-amazon-3964304622?position=19&pageNum=0&refId=0QDK%2BWJ5t5nW32a%2B2t%2BZGQ%3D%3D&trackingId=jl3f2fYnFXOpAy4U9k19kQ%3D%3D&trk=public_jobs_jserp-result_search-card\n",
      "Job URL: https://in.linkedin.com/jobs/view/account-manager-at-amazon-3964307472?position=20&pageNum=0&refId=0QDK%2BWJ5t5nW32a%2B2t%2BZGQ%3D%3D&trackingId=BF%2BwmhugDmmwPwYQGTZ7lA%3D%3D&trk=public_jobs_jserp-result_search-card\n",
      "Job URL: https://in.linkedin.com/jobs/view/whs-officer-whs-at-amazon-3964392157?position=21&pageNum=0&refId=0QDK%2BWJ5t5nW32a%2B2t%2BZGQ%3D%3D&trackingId=ks3f2zwOwFHPOBl%2BgfU3vQ%3D%3D&trk=public_jobs_jserp-result_search-card\n",
      "Job URL: https://in.linkedin.com/jobs/view/rme-coordinator-at-amazon-3982907312?position=22&pageNum=0&refId=0QDK%2BWJ5t5nW32a%2B2t%2BZGQ%3D%3D&trackingId=ntR63SAwC8Zc8xi38N3fmA%3D%3D&trk=public_jobs_jserp-result_search-card\n",
      "Job URL: https://in.linkedin.com/jobs/view/area-manager-ib-ib-at-amazon-3919727490?position=23&pageNum=0&refId=0QDK%2BWJ5t5nW32a%2B2t%2BZGQ%3D%3D&trackingId=dolQu2eCRUO9fAklKbsipg%3D%3D&trk=public_jobs_jserp-result_search-card\n",
      "Job URL: https://in.linkedin.com/jobs/view/rme-coordinator-at-amazon-3982905524?position=24&pageNum=0&refId=0QDK%2BWJ5t5nW32a%2B2t%2BZGQ%3D%3D&trackingId=PuGhZJUrwCE6H7eS5wohfw%3D%3D&trk=public_jobs_jserp-result_search-card\n",
      "Job URL: https://in.linkedin.com/jobs/view/leader-supply-chain-and-in-stock-management-grocery-amazon-india-at-amazon-3964388805?position=25&pageNum=0&refId=0QDK%2BWJ5t5nW32a%2B2t%2BZGQ%3D%3D&trackingId=iTCn1SvBd6UPjBmtw%2Bp%2Biw%3D%3D&trk=public_jobs_jserp-result_search-card\n",
      "Job URL: https://in.linkedin.com/jobs/view/rme-coordinator-at-amazon-3982907310?position=26&pageNum=0&refId=0QDK%2BWJ5t5nW32a%2B2t%2BZGQ%3D%3D&trackingId=5J39FJBxJPB%2FjlFypB2lzQ%3D%3D&trk=public_jobs_jserp-result_search-card\n",
      "Job URL: https://in.linkedin.com/jobs/view/campaign-creative-mgr-i-jp-creative-studios-at-amazon-3964392162?position=27&pageNum=0&refId=0QDK%2BWJ5t5nW32a%2B2t%2BZGQ%3D%3D&trackingId=CokXB%2B55dhHpkjepbC%2BTLw%3D%3D&trk=public_jobs_jserp-result_search-card\n",
      "Job URL: https://in.linkedin.com/jobs/view/rme-coordinator-at-amazon-3982908282?position=28&pageNum=0&refId=0QDK%2BWJ5t5nW32a%2B2t%2BZGQ%3D%3D&trackingId=sTSEwRQFMP%2F4kLzIlGhjgg%3D%3D&trk=public_jobs_jserp-result_search-card\n",
      "Job URL: https://in.linkedin.com/jobs/view/leader-growth-marketing-merchandising-grocery-amazon-india-at-amazon-3964389555?position=29&pageNum=0&refId=0QDK%2BWJ5t5nW32a%2B2t%2BZGQ%3D%3D&trackingId=MhcOXfH9fSJgHTekFlrmLg%3D%3D&trk=public_jobs_jserp-result_search-card\n",
      "Job URL: https://in.linkedin.com/jobs/view/data-associate-alexa-shopping-at-amazon-3982959784?position=30&pageNum=0&refId=0QDK%2BWJ5t5nW32a%2B2t%2BZGQ%3D%3D&trackingId=HaeG6TI7FPWNMWj%2B0cA93w%3D%3D&trk=public_jobs_jserp-result_search-card\n",
      "Job URL: https://in.linkedin.com/jobs/view/it-support-associate-ii-at-amazon-4001459070?position=31&pageNum=0&refId=0QDK%2BWJ5t5nW32a%2B2t%2BZGQ%3D%3D&trackingId=lFDunxpJ7CAOk1rHsO46cA%3D%3D&trk=public_jobs_jserp-result_search-card\n",
      "Job URL: https://in.linkedin.com/jobs/view/sr-associate-whs-at-amazon-3963180464?position=32&pageNum=0&refId=0QDK%2BWJ5t5nW32a%2B2t%2BZGQ%3D%3D&trackingId=fhqycSvkgiloD4VSlBd8yA%3D%3D&trk=public_jobs_jserp-result_search-card\n",
      "Job URL: https://in.linkedin.com/jobs/view/account-manager-amazon-business-advisory-at-amazon-3983481800?position=33&pageNum=0&refId=0QDK%2BWJ5t5nW32a%2B2t%2BZGQ%3D%3D&trackingId=z7GhYhnmU1m8Nvk8uHIn%2FQ%3D%3D&trk=public_jobs_jserp-result_search-card\n",
      "Job URL: https://in.linkedin.com/jobs/view/financial-analyst-ii-gfs-services-fp-a-at-amazon-3964674447?position=34&pageNum=0&refId=0QDK%2BWJ5t5nW32a%2B2t%2BZGQ%3D%3D&trackingId=Abdo5ALPcY9GGqV8MdEALQ%3D%3D&trk=public_jobs_jserp-result_search-card\n",
      "Job URL: https://in.linkedin.com/jobs/view/program-manager-amazon-freight-in-at-amazon-3964387907?position=35&pageNum=0&refId=0QDK%2BWJ5t5nW32a%2B2t%2BZGQ%3D%3D&trackingId=FfdbRNJXu7jw8eI9aP6fcQ%3D%3D&trk=public_jobs_jserp-result_search-card\n",
      "Job URL: https://in.linkedin.com/jobs/view/sales-assistant-amazon-renewed-at-amazon-3964303690?position=36&pageNum=0&refId=0QDK%2BWJ5t5nW32a%2B2t%2BZGQ%3D%3D&trackingId=ccwBxTvjTGlfEakF8PlIcQ%3D%3D&trk=public_jobs_jserp-result_search-card\n",
      "Job URL: https://in.linkedin.com/jobs/view/ad-sales-manager-amazon-at-amazon-4000944665?position=37&pageNum=0&refId=0QDK%2BWJ5t5nW32a%2B2t%2BZGQ%3D%3D&trackingId=5MSHUDyB5PBtQXda23jobg%3D%3D&trk=public_jobs_jserp-result_search-card\n",
      "Job URL: https://in.linkedin.com/jobs/view/business-analyst-tss-at-amazon-3945921960?position=38&pageNum=0&refId=0QDK%2BWJ5t5nW32a%2B2t%2BZGQ%3D%3D&trackingId=Pmie0wu2GvaggNNmEUg5AA%3D%3D&trk=public_jobs_jserp-result_search-card\n",
      "Job URL: https://in.linkedin.com/jobs/view/finance-manager-in-marketing-finance-at-amazon-4000948129?position=39&pageNum=0&refId=0QDK%2BWJ5t5nW32a%2B2t%2BZGQ%3D%3D&trackingId=P6WUQVolQQ8FagIqbEK8kA%3D%3D&trk=public_jobs_jserp-result_search-card\n",
      "Job URL: https://in.linkedin.com/jobs/view/digital-content-associate-selection-growth-experience-at-amazon-4000945334?position=40&pageNum=0&refId=0QDK%2BWJ5t5nW32a%2B2t%2BZGQ%3D%3D&trackingId=ZVSWq2Ewlbvfh9sGod13JQ%3D%3D&trk=public_jobs_jserp-result_search-card\n",
      "Job URL: https://in.linkedin.com/jobs/view/web-development-engineer-amazon-at-amazon-3982908270?position=41&pageNum=0&refId=0QDK%2BWJ5t5nW32a%2B2t%2BZGQ%3D%3D&trackingId=hl4VWZH8P%2BDbB92PDOPbNg%3D%3D&trk=public_jobs_jserp-result_search-card\n",
      "Job URL: https://in.linkedin.com/jobs/view/account-manager-en-lcs-sg-ic-at-amazon-3930258910?position=42&pageNum=0&refId=0QDK%2BWJ5t5nW32a%2B2t%2BZGQ%3D%3D&trackingId=46k3363nQKnrztYBimx0xQ%3D%3D&trk=public_jobs_jserp-result_search-card\n",
      "Job URL: https://in.linkedin.com/jobs/view/slp-coordinator-at-amazon-3982964435?position=43&pageNum=0&refId=0QDK%2BWJ5t5nW32a%2B2t%2BZGQ%3D%3D&trackingId=0u3SxGoj%2F%2FrS%2B%2FozssliBw%3D%3D&trk=public_jobs_jserp-result_search-card\n",
      "Job URL: https://in.linkedin.com/jobs/view/sr-associate-acc-management-seller-success-at-amazon-3982907308?position=44&pageNum=0&refId=0QDK%2BWJ5t5nW32a%2B2t%2BZGQ%3D%3D&trackingId=UoPphOpK%2Bovp9mLmgnYQqg%3D%3D&trk=public_jobs_jserp-result_search-card\n",
      "Job URL: https://in.linkedin.com/jobs/view/sr-product-manager-global-trade-at-amazon-3964303713?position=45&pageNum=0&refId=0QDK%2BWJ5t5nW32a%2B2t%2BZGQ%3D%3D&trackingId=bPdL4qvTPbksrXQdFkZgug%3D%3D&trk=public_jobs_jserp-result_search-card\n",
      "Job URL: https://in.linkedin.com/jobs/view/associate-quality-services-coro-at-amazon-3982901980?position=46&pageNum=0&refId=0QDK%2BWJ5t5nW32a%2B2t%2BZGQ%3D%3D&trackingId=Jku%2FeWowqvoEWR0BHzpO0w%3D%3D&trk=public_jobs_jserp-result_search-card\n",
      "Job URL: https://in.linkedin.com/jobs/view/associate-quality-services-device-controls-at-amazon-3963462516?position=47&pageNum=0&refId=0QDK%2BWJ5t5nW32a%2B2t%2BZGQ%3D%3D&trackingId=5lLnmw%2FE0SnWhlkEfVei8g%3D%3D&trk=public_jobs_jserp-result_search-card\n",
      "Job URL: https://in.linkedin.com/jobs/view/sr-program-manager-am-flex-at-amazon-3982906343?position=48&pageNum=0&refId=0QDK%2BWJ5t5nW32a%2B2t%2BZGQ%3D%3D&trackingId=%2BZqVUZrweFb9xNSjVNpDJg%3D%3D&trk=public_jobs_jserp-result_search-card\n",
      "Job URL: https://in.linkedin.com/jobs/view/program-manager-global-planning-r-c-wfm-team-at-amazon-3945706130?position=49&pageNum=0&refId=0QDK%2BWJ5t5nW32a%2B2t%2BZGQ%3D%3D&trackingId=%2FUV3nRZw3i9%2BSe%2BIpWRcvQ%3D%3D&trk=public_jobs_jserp-result_search-card\n"
     ]
    },
    {
     "name": "stdout",
     "output_type": "stream",
     "text": [
      "Job URL: https://in.linkedin.com/jobs/view/it-support-engineer-i-ots-at-amazon-4000945353?position=50&pageNum=0&refId=0QDK%2BWJ5t5nW32a%2B2t%2BZGQ%3D%3D&trackingId=cPSZevL%2B0GZ0Po03bvCHBQ%3D%3D&trk=public_jobs_jserp-result_search-card\n",
      "Job URL: https://in.linkedin.com/jobs/view/ad-sales-manager-amazon-at-amazon-4000946275?position=51&pageNum=0&refId=0QDK%2BWJ5t5nW32a%2B2t%2BZGQ%3D%3D&trackingId=dm5Bej6QYfDl9HSdW7cG%2Bg%3D%3D&trk=public_jobs_jserp-result_search-card\n",
      "Job URL: https://in.linkedin.com/jobs/view/account-manager-amazon-business-advisory-at-amazon-3982959786?position=52&pageNum=0&refId=0QDK%2BWJ5t5nW32a%2B2t%2BZGQ%3D%3D&trackingId=SwCmNoCfcOoR5FNyv0ds2g%3D%3D&trk=public_jobs_jserp-result_search-card\n",
      "Job URL: https://in.linkedin.com/jobs/view/program-manager-whs-central-programs-team-at-amazon-3983414631?position=53&pageNum=0&refId=0QDK%2BWJ5t5nW32a%2B2t%2BZGQ%3D%3D&trackingId=cXM2XyW7wcQbNfpg%2FjCWsQ%3D%3D&trk=public_jobs_jserp-result_search-card\n",
      "Job URL: https://in.linkedin.com/jobs/view/procurement-manager-in-trans-at-amazon-3964390327?position=54&pageNum=0&refId=0QDK%2BWJ5t5nW32a%2B2t%2BZGQ%3D%3D&trackingId=P%2BCg0a3L12OHiPOBjkiKJA%3D%3D&trk=public_jobs_jserp-result_search-card\n",
      "Job URL: https://in.linkedin.com/jobs/view/account-manager-smart-commerce-at-amazon-4000951048?position=55&pageNum=0&refId=0QDK%2BWJ5t5nW32a%2B2t%2BZGQ%3D%3D&trackingId=eRQXalHmgJfpriYSqB7tAQ%3D%3D&trk=public_jobs_jserp-result_search-card\n",
      "Job URL: https://in.linkedin.com/jobs/view/program-manager-whs-central-programs-team-at-amazon-3982907297?position=56&pageNum=0&refId=0QDK%2BWJ5t5nW32a%2B2t%2BZGQ%3D%3D&trackingId=PwW2mzCAUSokasb3wA2Y8w%3D%3D&trk=public_jobs_jserp-result_search-card\n",
      "Job URL: https://in.linkedin.com/jobs/view/business-intelligence-engineer-in-homepage-at-amazon-4001454824?position=57&pageNum=0&refId=0QDK%2BWJ5t5nW32a%2B2t%2BZGQ%3D%3D&trackingId=zRwuc1YzG01SJ%2BpyPVzH4g%3D%3D&trk=public_jobs_jserp-result_search-card\n",
      "Job URL: https://in.linkedin.com/jobs/view/channel-team-lead-sales-assistant-iii-at-amazon-4001459026?position=58&pageNum=0&refId=0QDK%2BWJ5t5nW32a%2B2t%2BZGQ%3D%3D&trackingId=bCIQPUQj9AlCBh2OmT5N1A%3D%3D&trk=public_jobs_jserp-result_search-card\n",
      "Job URL: https://in.linkedin.com/jobs/view/eu-fba-support-ops-india-leader-eu-fba-support-ops-at-amazon-3945922905?position=59&pageNum=0&refId=0QDK%2BWJ5t5nW32a%2B2t%2BZGQ%3D%3D&trackingId=zCKyvwQUlwhIrD9wGk9rxQ%3D%3D&trk=public_jobs_jserp-result_search-card\n",
      "Job URL: https://in.linkedin.com/jobs/view/sr-associate-quality-services-ds2-at-amazon-3982902622?position=60&pageNum=0&refId=0QDK%2BWJ5t5nW32a%2B2t%2BZGQ%3D%3D&trackingId=ig36nwJ%2B0JBuUyPK%2BOyKCg%3D%3D&trk=public_jobs_jserp-result_search-card\n",
      "Extracted 60 job links\n"
     ]
    }
   ],
   "source": [
    "from selenium.common.exceptions import StaleElementReferenceException, NoSuchWindowException  \n",
    "\n",
    "\n",
    "\n",
    "\n",
    "\n",
    "# Fetching  job links\n",
    "job_elements = driver.find_elements_by_class_name('base-card__full-link')\n",
    "\n",
    "# Loop through each job element and extract the href attribute\n",
    "job_links = []\n",
    "for job_element in job_elements:\n",
    "    job_url = job_element.get_attribute('href')\n",
    "    print(f\"Job URL: {job_url}\")\n",
    "    job_links.append(job_url)\n",
    "\n",
    "#  Print or use the job_links list for further processing\n",
    "print(f\"Extracted {len(job_links)} job links\")\n",
    " \n",
    "       \n",
    "        "
   ]
  },
  {
   "cell_type": "code",
   "execution_count": 56,
   "id": "66e7946c",
   "metadata": {},
   "outputs": [
    {
     "data": {
      "text/plain": [
       "['https://in.linkedin.com/jobs/view/software-engineer-at-microsoft-3989055028?position=1&pageNum=0&refId=j6g%2BwmYESxnm9ZL0KFjaWA%3D%3D&trackingId=nUltnujVyiz1YkjnpC%2FplA%3D%3D&trk=public_jobs_jserp-result_search-card',\n",
       " 'https://in.linkedin.com/jobs/view/%E2%80%8B%E2%80%8Bsoftware-engineer%E2%80%8B-at-microsoft-3974756992?position=2&pageNum=0&refId=j6g%2BwmYESxnm9ZL0KFjaWA%3D%3D&trackingId=YxYdstuNL5lbEuf%2BEJ69kg%3D%3D&trk=public_jobs_jserp-result_search-card',\n",
       " 'https://in.linkedin.com/jobs/view/software-engineer-at-microsoft-3989050459?position=3&pageNum=0&refId=j6g%2BwmYESxnm9ZL0KFjaWA%3D%3D&trackingId=Zd38Wo0afAR5yy9Zdpt1cQ%3D%3D&trk=public_jobs_jserp-result_search-card',\n",
       " 'https://in.linkedin.com/jobs/view/software-engineer-at-microsoft-3964923199?position=4&pageNum=0&refId=j6g%2BwmYESxnm9ZL0KFjaWA%3D%3D&trackingId=PmW97PmHiGU4h8S7kgoCgA%3D%3D&trk=public_jobs_jserp-result_search-card',\n",
       " 'https://in.linkedin.com/jobs/view/software-engineer-at-microsoft-3972076455?position=5&pageNum=0&refId=j6g%2BwmYESxnm9ZL0KFjaWA%3D%3D&trackingId=KT8ekXnR5fCa1c5ZLT3FFg%3D%3D&trk=public_jobs_jserp-result_search-card',\n",
       " 'https://in.linkedin.com/jobs/view/software-engineer-at-microsoft-3993267040?position=6&pageNum=0&refId=j6g%2BwmYESxnm9ZL0KFjaWA%3D%3D&trackingId=OATOjfoZ0xQOeZ3NtGy03w%3D%3D&trk=public_jobs_jserp-result_search-card',\n",
       " 'https://in.linkedin.com/jobs/view/software-engineer-at-microsoft-3994829817?position=7&pageNum=0&refId=j6g%2BwmYESxnm9ZL0KFjaWA%3D%3D&trackingId=8Flj8sYV5yX8%2B%2BiBAeIXcg%3D%3D&trk=public_jobs_jserp-result_search-card',\n",
       " 'https://in.linkedin.com/jobs/view/software-engineering-internship-opportunity-at-microsoft-3982193847?position=8&pageNum=0&refId=j6g%2BwmYESxnm9ZL0KFjaWA%3D%3D&trackingId=QOdBIwELDaaOe6jDbHqQig%3D%3D&trk=public_jobs_jserp-result_search-card',\n",
       " 'https://in.linkedin.com/jobs/view/software-engineer-at-microsoft-3962920118?position=9&pageNum=0&refId=j6g%2BwmYESxnm9ZL0KFjaWA%3D%3D&trackingId=%2ByE5lihrfp29qMX7xkurBA%3D%3D&trk=public_jobs_jserp-result_search-card',\n",
       " 'https://in.linkedin.com/jobs/view/software-engineering-internship-opportunity-at-microsoft-3982194909?position=10&pageNum=0&refId=j6g%2BwmYESxnm9ZL0KFjaWA%3D%3D&trackingId=328%2FAhIf0xCmJAh1%2BTBr8w%3D%3D&trk=public_jobs_jserp-result_search-card',\n",
       " 'https://in.linkedin.com/jobs/view/software-engineer-at-microsoft-3989052225?position=11&pageNum=0&refId=j6g%2BwmYESxnm9ZL0KFjaWA%3D%3D&trackingId=PCBARtxtqJzm7L%2FhQ6bIDg%3D%3D&trk=public_jobs_jserp-result_search-card',\n",
       " 'https://in.linkedin.com/jobs/view/software-engineer-at-microsoft-3989052221?position=12&pageNum=0&refId=j6g%2BwmYESxnm9ZL0KFjaWA%3D%3D&trackingId=vrJyccozYZ2VC%2Bt8L1cqzg%3D%3D&trk=public_jobs_jserp-result_search-card',\n",
       " 'https://in.linkedin.com/jobs/view/software-engineer-at-microsoft-3989052224?position=13&pageNum=0&refId=j6g%2BwmYESxnm9ZL0KFjaWA%3D%3D&trackingId=EVMXE%2FgguSrGn7KGaaE4nQ%3D%3D&trk=public_jobs_jserp-result_search-card',\n",
       " 'https://in.linkedin.com/jobs/view/software-engineering-internship-opportunity-at-microsoft-3982195862?position=14&pageNum=0&refId=j6g%2BwmYESxnm9ZL0KFjaWA%3D%3D&trackingId=kJeh9xvq1GofQ4a0mge8AQ%3D%3D&trk=public_jobs_jserp-result_search-card',\n",
       " 'https://in.linkedin.com/jobs/view/software-engineering-internship-opportunity-at-microsoft-3982198329?position=15&pageNum=0&refId=j6g%2BwmYESxnm9ZL0KFjaWA%3D%3D&trackingId=oYTfLX6eaMgzwYuDM82TZQ%3D%3D&trk=public_jobs_jserp-result_search-card',\n",
       " 'https://in.linkedin.com/jobs/view/business-manager-at-microsoft-3995283342?position=16&pageNum=0&refId=j6g%2BwmYESxnm9ZL0KFjaWA%3D%3D&trackingId=LWH0Ajovd5m%2FWqsZzrBAyg%3D%3D&trk=public_jobs_jserp-result_search-card',\n",
       " 'https://in.linkedin.com/jobs/view/software-engineering-internship-opportunity-at-microsoft-3982198331?position=17&pageNum=0&refId=j6g%2BwmYESxnm9ZL0KFjaWA%3D%3D&trackingId=9uMYlrplnSDQicaVqBpUog%3D%3D&trk=public_jobs_jserp-result_search-card',\n",
       " 'https://in.linkedin.com/jobs/view/software-engineer-at-microsoft-3999730690?position=18&pageNum=0&refId=j6g%2BwmYESxnm9ZL0KFjaWA%3D%3D&trackingId=weF1%2F0uzp6ZE7JYPgNwNww%3D%3D&trk=public_jobs_jserp-result_search-card',\n",
       " 'https://in.linkedin.com/jobs/view/software-engineer-at-microsoft-3908307594?position=19&pageNum=0&refId=j6g%2BwmYESxnm9ZL0KFjaWA%3D%3D&trackingId=b34skOgfs%2BHIjyEq2Off4w%3D%3D&trk=public_jobs_jserp-result_search-card',\n",
       " 'https://in.linkedin.com/jobs/view/software-engineer-at-microsoft-3989050445?position=20&pageNum=0&refId=j6g%2BwmYESxnm9ZL0KFjaWA%3D%3D&trackingId=HusEUNryEK2I5u%2FCY0ybjQ%3D%3D&trk=public_jobs_jserp-result_search-card',\n",
       " 'https://in.linkedin.com/jobs/view/software-engineer-at-microsoft-3991309439?position=21&pageNum=0&refId=j6g%2BwmYESxnm9ZL0KFjaWA%3D%3D&trackingId=I7wp7ROAAkpUIJzDL6QdSw%3D%3D&trk=public_jobs_jserp-result_search-card',\n",
       " 'https://in.linkedin.com/jobs/view/software-engineer-at-microsoft-3989049562?position=22&pageNum=0&refId=j6g%2BwmYESxnm9ZL0KFjaWA%3D%3D&trackingId=w2%2Bu1SKDdwhGEzOH%2BLHkYg%3D%3D&trk=public_jobs_jserp-result_search-card',\n",
       " 'https://in.linkedin.com/jobs/view/software-engineer-at-microsoft-3987966538?position=23&pageNum=0&refId=j6g%2BwmYESxnm9ZL0KFjaWA%3D%3D&trackingId=a5h96Po5D7u4ZioFVeMDOg%3D%3D&trk=public_jobs_jserp-result_search-card',\n",
       " 'https://in.linkedin.com/jobs/view/customer-success-account-manager-at-microsoft-3982052886?position=24&pageNum=0&refId=j6g%2BwmYESxnm9ZL0KFjaWA%3D%3D&trackingId=4gPOY4vBOMz5PDJ8tYE5aA%3D%3D&trk=public_jobs_jserp-result_search-card',\n",
       " 'https://in.linkedin.com/jobs/view/software-engineering-internship-opportunity-at-microsoft-3982195864?position=25&pageNum=0&refId=j6g%2BwmYESxnm9ZL0KFjaWA%3D%3D&trackingId=JTVkln0C92oveQwjJqhluQ%3D%3D&trk=public_jobs_jserp-result_search-card',\n",
       " 'https://in.linkedin.com/jobs/view/software-engineer-at-microsoft-3989051361?position=26&pageNum=0&refId=j6g%2BwmYESxnm9ZL0KFjaWA%3D%3D&trackingId=b91k96RNgDkkzjEmgXiRJA%3D%3D&trk=public_jobs_jserp-result_search-card',\n",
       " 'https://in.linkedin.com/jobs/view/software-engineer-at-microsoft-3993266012?position=27&pageNum=0&refId=j6g%2BwmYESxnm9ZL0KFjaWA%3D%3D&trackingId=bzE9A1Ee0Ezetf2740V3Rg%3D%3D&trk=public_jobs_jserp-result_search-card',\n",
       " 'https://in.linkedin.com/jobs/view/software-engineer-at-microsoft-3989050448?position=28&pageNum=0&refId=j6g%2BwmYESxnm9ZL0KFjaWA%3D%3D&trackingId=nsKeK%2BbQoQTVzQXF1aCEDA%3D%3D&trk=public_jobs_jserp-result_search-card',\n",
       " 'https://in.linkedin.com/jobs/view/software-engineer-at-microsoft-3989052220?position=29&pageNum=0&refId=j6g%2BwmYESxnm9ZL0KFjaWA%3D%3D&trackingId=ikGNO61WDZvaA7hCKia59g%3D%3D&trk=public_jobs_jserp-result_search-card',\n",
       " 'https://in.linkedin.com/jobs/view/technical-support-engineering-at-microsoft-3927385655?position=30&pageNum=0&refId=j6g%2BwmYESxnm9ZL0KFjaWA%3D%3D&trackingId=rVzPJBazOhfx5vB4jrOjYg%3D%3D&trk=public_jobs_jserp-result_search-card',\n",
       " 'https://in.linkedin.com/jobs/view/senior-hr-business-partner-at-microsoft-3984731496?position=31&pageNum=0&refId=j6g%2BwmYESxnm9ZL0KFjaWA%3D%3D&trackingId=ndprCZST9iMLofUuCe6RJg%3D%3D&trk=public_jobs_jserp-result_search-card',\n",
       " 'https://in.linkedin.com/jobs/view/digital-specialist-%E2%80%93-support-solution-india-at-microsoft-3989909869?position=32&pageNum=0&refId=j6g%2BwmYESxnm9ZL0KFjaWA%3D%3D&trackingId=U2UXB7cMvsPiKT7UCkhJyA%3D%3D&trk=public_jobs_jserp-result_search-card',\n",
       " 'https://in.linkedin.com/jobs/view/technical-support-engineering-at-microsoft-3927388320?position=33&pageNum=0&refId=j6g%2BwmYESxnm9ZL0KFjaWA%3D%3D&trackingId=tQ6fOL2RLY%2BEdjMwM3uicg%3D%3D&trk=public_jobs_jserp-result_search-card',\n",
       " 'https://in.linkedin.com/jobs/view/software-engineering-internship-opportunity-at-microsoft-3982196702?position=34&pageNum=0&refId=j6g%2BwmYESxnm9ZL0KFjaWA%3D%3D&trackingId=UkEf%2Fr66J26U6xgYpPmeRw%3D%3D&trk=public_jobs_jserp-result_search-card',\n",
       " 'https://in.linkedin.com/jobs/view/designer-ii-at-microsoft-3971206186?position=35&pageNum=0&refId=j6g%2BwmYESxnm9ZL0KFjaWA%3D%3D&trackingId=BdMOgZCzGFi80AWAcvUXLg%3D%3D&trk=public_jobs_jserp-result_search-card',\n",
       " 'https://in.linkedin.com/jobs/view/software-engineering-internship-opportunity-at-microsoft-3982195863?position=36&pageNum=0&refId=j6g%2BwmYESxnm9ZL0KFjaWA%3D%3D&trackingId=IS9bMH6bzD4HuGVJ091Xfw%3D%3D&trk=public_jobs_jserp-result_search-card',\n",
       " 'https://in.linkedin.com/jobs/view/software-engineer-at-microsoft-3998200465?position=37&pageNum=0&refId=j6g%2BwmYESxnm9ZL0KFjaWA%3D%3D&trackingId=Ok2IIRancOK3neoijVAnXw%3D%3D&trk=public_jobs_jserp-result_search-card',\n",
       " 'https://in.linkedin.com/jobs/view/software-engineering-internship-opportunity-at-microsoft-3982198333?position=38&pageNum=0&refId=j6g%2BwmYESxnm9ZL0KFjaWA%3D%3D&trackingId=2D5DlrWddWdMwuqQvUJccg%3D%3D&trk=public_jobs_jserp-result_search-card',\n",
       " 'https://in.linkedin.com/jobs/view/software-engineer-at-microsoft-3998203150?position=39&pageNum=0&refId=j6g%2BwmYESxnm9ZL0KFjaWA%3D%3D&trackingId=cXg%2B8CvvHABoMS%2FD1glbUg%3D%3D&trk=public_jobs_jserp-result_search-card',\n",
       " 'https://in.linkedin.com/jobs/view/software-engineering-internship-opportunity-at-microsoft-3982195861?position=40&pageNum=0&refId=j6g%2BwmYESxnm9ZL0KFjaWA%3D%3D&trackingId=9SmenMKxPUZI%2BfAf0Pv%2BWw%3D%3D&trk=public_jobs_jserp-result_search-card',\n",
       " 'https://in.linkedin.com/jobs/view/%E2%80%8B%E2%80%8Bsoftware-engineer%E2%80%8B-at-microsoft-3993830547?position=41&pageNum=0&refId=j6g%2BwmYESxnm9ZL0KFjaWA%3D%3D&trackingId=ki0wmfVRrARO%2BF%2BmSl5DdA%3D%3D&trk=public_jobs_jserp-result_search-card',\n",
       " 'https://in.linkedin.com/jobs/view/software-engineering-internship-opportunity-at-microsoft-3999979352?position=42&pageNum=0&refId=j6g%2BwmYESxnm9ZL0KFjaWA%3D%3D&trackingId=FH8ez3M3mut9We7B3S3PvQ%3D%3D&trk=public_jobs_jserp-result_search-card',\n",
       " 'https://in.linkedin.com/jobs/view/software-engineer-backend-at-microsoft-3986957976?position=43&pageNum=0&refId=j6g%2BwmYESxnm9ZL0KFjaWA%3D%3D&trackingId=5w8LKVbyjpV6R16ahI%2ByHQ%3D%3D&trk=public_jobs_jserp-result_search-card',\n",
       " 'https://in.linkedin.com/jobs/view/demand-planning-at-microsoft-3977998051?position=44&pageNum=0&refId=j6g%2BwmYESxnm9ZL0KFjaWA%3D%3D&trackingId=UBom895zPQiamQX3uQW5pQ%3D%3D&trk=public_jobs_jserp-result_search-card',\n",
       " 'https://in.linkedin.com/jobs/view/software-engineering-internship-opportunity-at-microsoft-3982192988?position=45&pageNum=0&refId=j6g%2BwmYESxnm9ZL0KFjaWA%3D%3D&trackingId=86j59Oz8xhALC%2BPW3Uw1vA%3D%3D&trk=public_jobs_jserp-result_search-card',\n",
       " 'https://in.linkedin.com/jobs/view/designer-2-at-microsoft-3974259323?position=46&pageNum=0&refId=j6g%2BwmYESxnm9ZL0KFjaWA%3D%3D&trackingId=TL5DnzJkUSW5ilbq2j5kwQ%3D%3D&trk=public_jobs_jserp-result_search-card',\n",
       " 'https://in.linkedin.com/jobs/view/software-engineering-internship-opportunity-at-microsoft-3982197609?position=47&pageNum=0&refId=j6g%2BwmYESxnm9ZL0KFjaWA%3D%3D&trackingId=eWRiskHR6BsoesrQ7dhJ%2Fg%3D%3D&trk=public_jobs_jserp-result_search-card',\n",
       " 'https://in.linkedin.com/jobs/view/software-engineering-internship-opportunity-at-microsoft-3982194905?position=48&pageNum=0&refId=j6g%2BwmYESxnm9ZL0KFjaWA%3D%3D&trackingId=NCvUaLQ%2BitrbpKou7Tv5LA%3D%3D&trk=public_jobs_jserp-result_search-card',\n",
       " 'https://in.linkedin.com/jobs/view/software-engineer-at-microsoft-3998201288?position=49&pageNum=0&refId=j6g%2BwmYESxnm9ZL0KFjaWA%3D%3D&trackingId=EVu50PJulrDA2fdPHLuqlA%3D%3D&trk=public_jobs_jserp-result_search-card',\n",
       " 'https://in.linkedin.com/jobs/view/software-engineer-at-microsoft-3989051363?position=50&pageNum=0&refId=j6g%2BwmYESxnm9ZL0KFjaWA%3D%3D&trackingId=hFsPJIAKlZoH%2F9ZWiV3voA%3D%3D&trk=public_jobs_jserp-result_search-card',\n",
       " 'https://in.linkedin.com/jobs/view/software-engineering-internship-opportunity-at-microsoft-3982192985?position=51&pageNum=0&refId=j6g%2BwmYESxnm9ZL0KFjaWA%3D%3D&trackingId=RduTflgk4Hj2vCYmh6MtGg%3D%3D&trk=public_jobs_jserp-result_search-card',\n",
       " 'https://in.linkedin.com/jobs/view/software-engineering-internship-opportunity-at-microsoft-3982195866?position=52&pageNum=0&refId=j6g%2BwmYESxnm9ZL0KFjaWA%3D%3D&trackingId=z9i57NhBpbK1VrbCYMF2tw%3D%3D&trk=public_jobs_jserp-result_search-card',\n",
       " 'https://in.linkedin.com/jobs/view/software-engineer-at-microsoft-3998099632?position=53&pageNum=0&refId=j6g%2BwmYESxnm9ZL0KFjaWA%3D%3D&trackingId=pRsDx2eQXviUWpNLTFA6rA%3D%3D&trk=public_jobs_jserp-result_search-card',\n",
       " 'https://in.linkedin.com/jobs/view/software-engineer-at-microsoft-3989055019?position=54&pageNum=0&refId=j6g%2BwmYESxnm9ZL0KFjaWA%3D%3D&trackingId=F5lp42zJtVYuPEYy%2FYsqEg%3D%3D&trk=public_jobs_jserp-result_search-card',\n",
       " 'https://in.linkedin.com/jobs/view/software-engineering-internship-opportunity-at-microsoft-3982194904?position=55&pageNum=0&refId=j6g%2BwmYESxnm9ZL0KFjaWA%3D%3D&trackingId=qh4MIwYTdTd0GYSsYvfYaw%3D%3D&trk=public_jobs_jserp-result_search-card',\n",
       " 'https://in.linkedin.com/jobs/view/software-engineering-internship-opportunity-at-microsoft-3982197608?position=56&pageNum=0&refId=j6g%2BwmYESxnm9ZL0KFjaWA%3D%3D&trackingId=RTHx4bwYl6V1BUM7LQgpdw%3D%3D&trk=public_jobs_jserp-result_search-card',\n",
       " 'https://in.linkedin.com/jobs/view/software-engineer-at-microsoft-3998205016?position=57&pageNum=0&refId=j6g%2BwmYESxnm9ZL0KFjaWA%3D%3D&trackingId=qO4QiUx1jAnKx4A%2BNpZ%2Bcw%3D%3D&trk=public_jobs_jserp-result_search-card',\n",
       " 'https://in.linkedin.com/jobs/view/sales-leader-application-development-at-microsoft-3984566216?position=58&pageNum=0&refId=j6g%2BwmYESxnm9ZL0KFjaWA%3D%3D&trackingId=lGqXDMytPRRYaZ7PMrkxDA%3D%3D&trk=public_jobs_jserp-result_search-card',\n",
       " 'https://in.linkedin.com/jobs/view/software-engineering-internship-opportunity-at-microsoft-3982198332?position=59&pageNum=0&refId=j6g%2BwmYESxnm9ZL0KFjaWA%3D%3D&trackingId=WC31br%2FhB0IBgbp9CEYL8w%3D%3D&trk=public_jobs_jserp-result_search-card',\n",
       " 'https://in.linkedin.com/jobs/view/software-engineer-at-microsoft-4001443762?position=60&pageNum=0&refId=j6g%2BwmYESxnm9ZL0KFjaWA%3D%3D&trackingId=AKFYvHN2AWzPuuEL4axdMA%3D%3D&trk=public_jobs_jserp-result_search-card']"
      ]
     },
     "execution_count": 56,
     "metadata": {},
     "output_type": "execute_result"
    }
   ],
   "source": [
    "job_links"
   ]
  },
  {
   "cell_type": "code",
   "execution_count": 259,
   "id": "d8937a22",
   "metadata": {},
   "outputs": [
    {
     "name": "stdout",
     "output_type": "stream",
     "text": [
      "Job Criteria: Mid-Senior level\n",
      "Job Criteria: Not Applicable\n",
      "Job Criteria: Mid-Senior level\n",
      "Job Criteria: Not Applicable\n",
      "Error: Could not retrieve job criteria for this link.\n",
      "Job Criteria: Not Applicable\n",
      "Job Criteria: Not Applicable\n",
      "Job Criteria: Mid-Senior level\n",
      "Job Criteria: Not Applicable\n",
      "Error: Could not retrieve job criteria for this link.\n",
      "Job Criteria: Not Applicable\n",
      "Job Criteria: Mid-Senior level\n",
      "Job Criteria: Mid-Senior level\n",
      "Job Criteria: Mid-Senior level\n",
      "Error: Could not retrieve job criteria for this link.\n",
      "Job Criteria: Not Applicable\n",
      "Job Criteria: Mid-Senior level\n",
      "Job Criteria: Mid-Senior level\n",
      "Job Criteria: Mid-Senior level\n",
      "Error: Could not retrieve job criteria for this link.\n",
      "Job Criteria: Not Applicable\n",
      "Job Criteria: Not Applicable\n",
      "Job Criteria: Mid-Senior level\n",
      "Job Criteria: Not Applicable\n",
      "Error: Could not retrieve job criteria for this link.\n",
      "Job Criteria: Not Applicable\n",
      "Job Criteria: Not Applicable\n",
      "Job Criteria: Not Applicable\n",
      "Job Criteria: Mid-Senior level\n",
      "Error: Could not retrieve job criteria for this link.\n",
      "Job Criteria: Mid-Senior level\n",
      "Job Criteria: Mid-Senior level\n",
      "Job Criteria: Mid-Senior level\n",
      "Job Criteria: Mid-Senior level\n",
      "Error: Could not retrieve job criteria for this link.\n",
      "Job Criteria: Not Applicable\n",
      "Job Criteria: Mid-Senior level\n",
      "Job Criteria: Not Applicable\n",
      "Job Criteria: Mid-Senior level\n",
      "Error: Could not retrieve job criteria for this link.\n",
      "Job Criteria: Not Applicable\n",
      "Job Criteria: Mid-Senior level\n",
      "Job Criteria: Not Applicable\n",
      "Job Criteria: Mid-Senior level\n",
      "Job Criteria: Mid-Senior level\n",
      "Error: Could not retrieve job criteria for this link.\n",
      "Job Criteria: Not Applicable\n",
      "Job Criteria: Mid-Senior level\n",
      "Job Criteria: Mid-Senior level\n",
      "Job Criteria: Associate\n",
      "Error: Could not retrieve job criteria for this link.\n",
      "Job Criteria: Mid-Senior level\n",
      "Job Criteria: Mid-Senior level\n",
      "Job Criteria: Mid-Senior level\n",
      "Error: Could not retrieve job criteria for this link.\n",
      "Job Criteria: Mid-Senior level\n",
      "Job Criteria: Not Applicable\n",
      "Job Criteria: Mid-Senior level\n",
      "Job Criteria: Mid-Senior level\n",
      "Error: Could not retrieve job criteria for this link.\n"
     ]
    }
   ],
   "source": [
    "job_criteria_list = []\n",
    "\n",
    "wait = WebDriverWait(driver, 10)\n",
    "\n",
    "\n",
    "\n",
    "\n",
    "for job_link in job_links: #looping through each link\n",
    "    driver.get(job_link)\n",
    "    \n",
    "    #finding element through XPATH\n",
    "        \n",
    "        \n",
    "    try:\n",
    "            criteria_element = wait.until(EC.visibility_of_element_located(\n",
    "        (By.XPATH, '//*[@id=\"main-content\"]/section[1]/div/div/section[1]/div/ul/li[1]/span')\n",
    "    ))\n",
    "            criteria_text = criteria_element.text\n",
    "            job_criteria_list.append(criteria_text)\n",
    "            print(f\"Job Criteria: {criteria_text}\")\n",
    "    except (StaleElementReferenceException, TimeoutException):\n",
    "            print(\"Error: Could not retrieve job criteria for this link.\")\n",
    "            job_criteria_list.append(\"null\")"
   ]
  },
  {
   "cell_type": "code",
   "execution_count": 260,
   "id": "83196617",
   "metadata": {},
   "outputs": [
    {
     "data": {
      "text/plain": [
       "60"
      ]
     },
     "execution_count": 260,
     "metadata": {},
     "output_type": "execute_result"
    }
   ],
   "source": [
    "len(job_criteria_list)"
   ]
  },
  {
   "cell_type": "code",
   "execution_count": 226,
   "id": "c144edae",
   "metadata": {},
   "outputs": [],
   "source": [
    "wait = WebDriverWait(driver, 10)\n",
    "employment_type_element = wait.until(EC.visibility_of_element_located((By.XPATH, '//*[@id=\"main-content\"]/section[1]/div/div/section[1]/div/ul/li[1]/span')))\n",
    "\n"
   ]
  },
  {
   "cell_type": "code",
   "execution_count": 261,
   "id": "e095ef10",
   "metadata": {},
   "outputs": [
    {
     "name": "stdout",
     "output_type": "stream",
     "text": [
      "Job Criteria: Full-time\n",
      "Job Criteria: Full-time\n",
      "Job Criteria: Full-time\n",
      "Job Criteria: Full-time\n",
      "Error: Could not retrieve job criteria for this link.\n",
      "Job Criteria: Full-time\n",
      "Job Criteria: Full-time\n",
      "Job Criteria: Full-time\n",
      "Job Criteria: Full-time\n",
      "Error: Could not retrieve job criteria for this link.\n",
      "Job Criteria: Full-time\n",
      "Job Criteria: Full-time\n",
      "Job Criteria: Full-time\n",
      "Job Criteria: Full-time\n",
      "Error: Could not retrieve job criteria for this link.\n",
      "Job Criteria: Full-time\n",
      "Job Criteria: Full-time\n",
      "Job Criteria: Full-time\n",
      "Job Criteria: Full-time\n",
      "Error: Could not retrieve job criteria for this link.\n",
      "Job Criteria: Full-time\n",
      "Job Criteria: Full-time\n",
      "Job Criteria: Full-time\n",
      "Job Criteria: Full-time\n",
      "Job Criteria: Full-time\n",
      "Job Criteria: Full-time\n",
      "Job Criteria: Full-time\n",
      "Error: Could not retrieve job criteria for this link.\n",
      "Job Criteria: Full-time\n",
      "Job Criteria: Full-time\n",
      "Job Criteria: Full-time\n",
      "Job Criteria: Full-time\n",
      "Error: Could not retrieve job criteria for this link.\n",
      "Job Criteria: Full-time\n",
      "Job Criteria: Full-time\n",
      "Job Criteria: Full-time\n",
      "Job Criteria: Full-time\n",
      "Error: Could not retrieve job criteria for this link.\n",
      "Job Criteria: Full-time\n",
      "Job Criteria: Full-time\n",
      "Job Criteria: Full-time\n",
      "Error: Could not retrieve job criteria for this link.\n",
      "Job Criteria: Full-time\n",
      "Job Criteria: Full-time\n",
      "Job Criteria: Full-time\n",
      "Job Criteria: Full-time\n",
      "Error: Could not retrieve job criteria for this link.\n",
      "Job Criteria: Full-time\n",
      "Job Criteria: Full-time\n",
      "Job Criteria: Full-time\n",
      "Job Criteria: Full-time\n",
      "Error: Could not retrieve job criteria for this link.\n",
      "Job Criteria: Full-time\n",
      "Job Criteria: Full-time\n",
      "Job Criteria: Full-time\n",
      "Error: Could not retrieve job criteria for this link.\n",
      "Job Criteria: Full-time\n",
      "Job Criteria: Full-time\n",
      "Job Criteria: Full-time\n",
      "Job Criteria: Full-time\n"
     ]
    }
   ],
   "source": [
    "employement_type = []\n",
    "\n",
    "for job_link in job_links: #loop to each job_links\n",
    "    driver.get(job_link)\n",
    "        \n",
    "        \n",
    "    try:\n",
    "        #finding  employement_type through XPATH\n",
    "            criteria_element = wait.until(EC.visibility_of_element_located(\n",
    "        (By.XPATH, '//*[@id=\"main-content\"]/section[1]/div/div/section[1]/div/ul/li[2]/span')\n",
    "    ))\n",
    "            criteria_text = criteria_element.text\n",
    "            employement_type.append(criteria_text)\n",
    "            print(f\"Job Criteria: {criteria_text}\")\n",
    "    except (StaleElementReferenceException, TimeoutException):\n",
    "            print(\"Error: Could not retrieve job criteria for this link.\")\n",
    "            employement_type.append(\"null\")"
   ]
  },
  {
   "cell_type": "code",
   "execution_count": 232,
   "id": "d373d0fd",
   "metadata": {},
   "outputs": [
    {
     "data": {
      "text/plain": [
       "60"
      ]
     },
     "execution_count": 232,
     "metadata": {},
     "output_type": "execute_result"
    }
   ],
   "source": [
    "len(employement_type)"
   ]
  },
  {
   "cell_type": "code",
   "execution_count": 262,
   "id": "1e83f776",
   "metadata": {},
   "outputs": [],
   "source": [
    "num_jobs = min(len(company_name), len(titlename), len(location),\n",
    "               len(posted_on), len(posted_date), len(employement_type), len(job_criteria_list))"
   ]
  },
  {
   "cell_type": "code",
   "execution_count": 263,
   "id": "3672b760",
   "metadata": {},
   "outputs": [],
   "source": [
    "# Create a list of dictionaries with job details\n",
    "job_details_list = [\n",
    "    {\n",
    "        \"company\": company_name[i],\n",
    "        \"job_title\": titlename[i],\n",
    "        \"location\": location[i],\n",
    "        \"posted_on\": posted_on[i],\n",
    "        \"posted_date\": posted_date[i],\n",
    "        \"employment_type\": employement_type[i],\n",
    "        \"seniority_level\": job_criteria_list[i]\n",
    "    }\n",
    "    for i in range(num_jobs)\n",
    "]"
   ]
  },
  {
   "cell_type": "code",
   "execution_count": 264,
   "id": "463d8639",
   "metadata": {},
   "outputs": [
    {
     "name": "stdout",
     "output_type": "stream",
     "text": [
      "Data saved to job_details.json\n"
     ]
    }
   ],
   "source": [
    "# Limit the list to the first 50 elements\n",
    "limited_job_details = job_details_list[:50]\n",
    "\n",
    "# Save to JSON file\n",
    "with open('job_details_amazon.json', 'w') as json_file:\n",
    "    json.dump(limited_job_details, json_file, indent=4)\n",
    "\n",
    "print(f\"Data saved to job_details.json\")"
   ]
  },
  {
   "cell_type": "code",
   "execution_count": 265,
   "id": "ec898b69",
   "metadata": {},
   "outputs": [
    {
     "name": "stdout",
     "output_type": "stream",
     "text": [
      "Data saved to job_details_amazon.csv\n"
     ]
    }
   ],
   "source": [
    "import csv\n",
    "csv_file = 'job_details_amazon.csv'\n",
    "with open(csv_file, 'w', newline='', encoding='utf-8') as csvfile:\n",
    "    fieldnames = ['company', 'job_title', 'location', 'posted_on', 'posted_date', 'employment_type', 'seniority_level']\n",
    "    writer = csv.DictWriter(csvfile, fieldnames=fieldnames)\n",
    "\n",
    "    writer.writeheader()\n",
    "    for job in limited_job_details:\n",
    "        writer.writerow(job)\n",
    "\n",
    "print(f\"Data saved to {csv_file}\")"
   ]
  },
  {
   "cell_type": "code",
   "execution_count": null,
   "id": "260dbc4d",
   "metadata": {},
   "outputs": [],
   "source": []
  }
 ],
 "metadata": {
  "kernelspec": {
   "display_name": "Python 3 (ipykernel)",
   "language": "python",
   "name": "python3"
  },
  "language_info": {
   "codemirror_mode": {
    "name": "ipython",
    "version": 3
   },
   "file_extension": ".py",
   "mimetype": "text/x-python",
   "name": "python",
   "nbconvert_exporter": "python",
   "pygments_lexer": "ipython3",
   "version": "3.11.5"
  }
 },
 "nbformat": 4,
 "nbformat_minor": 5
}
